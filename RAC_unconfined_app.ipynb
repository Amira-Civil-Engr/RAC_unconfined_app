{
 "cells": [
  {
   "cell_type": "code",
   "execution_count": null,
   "id": "3b3cb060-35f8-4ea7-bd0d-45bf63610cf6",
   "metadata": {},
   "outputs": [],
   "source": []
  },
  {
   "cell_type": "code",
   "execution_count": 1,
   "id": "f5068813-8520-481f-bcba-09ed60b91a8f",
   "metadata": {},
   "outputs": [
    {
     "name": "stdout",
     "output_type": "stream",
     "text": [
      "Writing RAC_unconfined_app_streamlit.py\n"
     ]
    }
   ],
   "source": [
    "%%writefile RAC_unconfined_app_streamlit.py\n",
    "\n",
    "import streamlit as st\n",
    "import pandas as pd\n",
    "import joblib\n",
    "\n",
    "# Function to load the unconfined model and scaler\n",
    "def load_model_scaler_unconfined():\n",
    "    scaler = joblib.load(\"scaler_CS.pkl\")\n",
    "    model = joblib.load(\"best_model_CS.pkl\")\n",
    "    return model, scaler\n",
    "\n",
    "# Function to predict using CSV file for unconfined RAC\n",
    "def predict_from_csv_unconfined(df):\n",
    "    required_columns = ['C', 'W', 'NFA', 'NCA', 'RFA', 'RCA', 'SF', 'FA', 'Age']\n",
    "    model, scaler = load_model_scaler_unconfined()\n",
    "    X_scaled = scaler.transform(df[required_columns])\n",
    "    predictions = model.predict(X_scaled)\n",
    "    df['Predicted CS (MPa)'] = predictions\n",
    "    return df\n",
    "\n",
    "# Function to handle manual input predictions for unconfined RAC\n",
    "def predict_from_manual_input_unconfined(inputs):\n",
    "    input_data = pd.DataFrame([inputs])\n",
    "    model, scaler = load_model_scaler_unconfined()\n",
    "    X_scaled = scaler.transform(input_data)\n",
    "    prediction = model.predict(X_scaled)\n",
    "    st.write(f\"**Predicted Compressive Strength (CS): {prediction[0]:.2f} MPa**\")\n",
    "\n",
    "# Main App Interface for Unconfined RAC\n",
    "st.title(\"Unconfined RAC Prediction App\")\n",
    "st.markdown(\"Predict the compressive strength of unconfined Recycled Aggregate Concrete (RAC).\")\n",
    "\n",
    "# Upload CSV file or enter data manually\n",
    "st.markdown(\"### Input Data\")\n",
    "upload_method = st.radio(\"Choose how to input data:\", ('Upload CSV File', 'Enter Manually'))\n",
    "\n",
    "# For CSV input\n",
    "if upload_method == 'Upload CSV File':\n",
    "    uploaded_file = st.file_uploader(\"Upload your CSV file\", type=['csv'])\n",
    "    if uploaded_file is not None:\n",
    "        try:\n",
    "            df = pd.read_csv(uploaded_file)\n",
    "            result_df = predict_from_csv_unconfined(df)\n",
    "            st.dataframe(result_df)\n",
    "\n",
    "            # Allow the user to download the prediction results\n",
    "            csv = result_df.to_csv(index=False).encode('utf-8')\n",
    "            st.download_button(\n",
    "                label=\"Download Results as CSV\",\n",
    "                data=csv,\n",
    "                file_name='prediction_results.csv',\n",
    "                mime='text/csv',\n",
    "            )\n",
    "\n",
    "        except Exception as e:\n",
    "            st.error(f\"An error occurred: {e}\")\n",
    "\n",
    "# For manual input\n",
    "elif upload_method == 'Enter Manually':\n",
    "    inputs = {\n",
    "        'C': st.number_input('Cement Content (C) [kg/m³]', min_value=0.0),\n",
    "        'W': st.number_input('Water Content (W) [kg/m³]', min_value=0.0),\n",
    "        'NFA': st.number_input('Natural Fine Aggregate (NFA) [kg/m³]', min_value=0.0),\n",
    "        'NCA': st.number_input('Natural Coarse Aggregate (NCA) [kg/m³]', min_value=0.0),\n",
    "        'RFA': st.number_input('Recycled Fine Aggregate (RFA) [kg/m³]', min_value=0.0),\n",
    "        'RCA': st.number_input('Recycled Coarse Aggregate (RCA) [kg/m³]', min_value=0.0),\n",
    "        'SF': st.number_input('Silica Fume Content (SF) [kg/m³]', min_value=0.0),\n",
    "        'FA': st.number_input('Fly Ash Content (FA) [kg/m³]', min_value=0.0),\n",
    "        'Age': st.number_input('Age (days)', min_value=0.0)\n",
    "    }\n",
    "    if st.button(\"Predict\"):\n",
    "        predict_from_manual_input_unconfined(inputs)\n"
   ]
  },
  {
   "cell_type": "code",
   "execution_count": 2,
   "id": "5671e94a-e321-44b7-b519-05c239273ef3",
   "metadata": {},
   "outputs": [
    {
     "name": "stdout",
     "output_type": "stream",
     "text": [
      "^C\n"
     ]
    }
   ],
   "source": [
    "!streamlit run RAC_unconfined_app_streamlit.py\n"
   ]
  },
  {
   "cell_type": "code",
   "execution_count": null,
   "id": "938c32cd-318a-4e04-a9a0-9032458d15c6",
   "metadata": {},
   "outputs": [],
   "source": []
  }
 ],
 "metadata": {
  "kernelspec": {
   "display_name": "Python 3 (ipykernel)",
   "language": "python",
   "name": "python3"
  },
  "language_info": {
   "codemirror_mode": {
    "name": "ipython",
    "version": 3
   },
   "file_extension": ".py",
   "mimetype": "text/x-python",
   "name": "python",
   "nbconvert_exporter": "python",
   "pygments_lexer": "ipython3",
   "version": "3.9.19"
  }
 },
 "nbformat": 4,
 "nbformat_minor": 5
}
